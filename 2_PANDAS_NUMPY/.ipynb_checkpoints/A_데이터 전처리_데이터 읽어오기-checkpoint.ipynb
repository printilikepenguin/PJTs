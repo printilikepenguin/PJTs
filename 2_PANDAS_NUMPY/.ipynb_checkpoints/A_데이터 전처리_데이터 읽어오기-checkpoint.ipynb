{
 "cells": [
  {
   "cell_type": "code",
   "execution_count": 1,
   "id": "a9359139-8998-48af-9a28-5249b014174e",
   "metadata": {},
   "outputs": [
    {
     "name": "stdout",
     "output_type": "stream",
     "text": [
      "Requirement already satisfied: numpy in c:\\users\\ssafy\\appdata\\local\\programs\\python\\python39\\lib\\site-packages (1.25.1)\n",
      "Note: you may need to restart the kernel to use updated packages.\n"
     ]
    },
    {
     "name": "stderr",
     "output_type": "stream",
     "text": [
      "WARNING: You are using pip version 22.0.4; however, version 23.2.1 is available.\n",
      "You should consider upgrading via the 'C:\\Users\\SSAFY\\AppData\\Local\\Programs\\Python\\Python39\\python.exe -m pip install --upgrade pip' command.\n"
     ]
    }
   ],
   "source": [
    "pip install numpy"
   ]
  },
  {
   "cell_type": "code",
   "execution_count": 2,
   "id": "34c1c4a8-dbb2-460a-a7ca-93ba02781a33",
   "metadata": {},
   "outputs": [
    {
     "name": "stdout",
     "output_type": "stream",
     "text": [
      "Requirement already satisfied: pandas in c:\\users\\ssafy\\appdata\\local\\programs\\python\\python39\\lib\\site-packages (2.0.3)\n",
      "Requirement already satisfied: pytz>=2020.1 in c:\\users\\ssafy\\appdata\\local\\programs\\python\\python39\\lib\\site-packages (from pandas) (2023.3)\n",
      "Requirement already satisfied: tzdata>=2022.1 in c:\\users\\ssafy\\appdata\\local\\programs\\python\\python39\\lib\\site-packages (from pandas) (2023.3)\n",
      "Requirement already satisfied: python-dateutil>=2.8.2 in c:\\users\\ssafy\\appdata\\local\\programs\\python\\python39\\lib\\site-packages (from pandas) (2.8.2)\n",
      "Requirement already satisfied: numpy>=1.20.3 in c:\\users\\ssafy\\appdata\\local\\programs\\python\\python39\\lib\\site-packages (from pandas) (1.25.1)\n",
      "Requirement already satisfied: six>=1.5 in c:\\users\\ssafy\\appdata\\local\\programs\\python\\python39\\lib\\site-packages (from python-dateutil>=2.8.2->pandas) (1.16.0)\n",
      "Note: you may need to restart the kernel to use updated packages.\n"
     ]
    },
    {
     "name": "stderr",
     "output_type": "stream",
     "text": [
      "WARNING: You are using pip version 22.0.4; however, version 23.2.1 is available.\n",
      "You should consider upgrading via the 'C:\\Users\\SSAFY\\AppData\\Local\\Programs\\Python\\Python39\\python.exe -m pip install --upgrade pip' command.\n"
     ]
    }
   ],
   "source": [
    "pip install pandas"
   ]
  },
  {
   "cell_type": "code",
   "execution_count": 3,
   "id": "8f8b8a13-9d72-4701-a977-50088ec43cfb",
   "metadata": {},
   "outputs": [
    {
     "name": "stdout",
     "output_type": "stream",
     "text": [
      "Requirement already satisfied: matplotlib in c:\\users\\ssafy\\appdata\\local\\programs\\python\\python39\\lib\\site-packages (3.7.2)\n",
      "Requirement already satisfied: importlib-resources>=3.2.0 in c:\\users\\ssafy\\appdata\\local\\programs\\python\\python39\\lib\\site-packages (from matplotlib) (6.0.0)\n",
      "Requirement already satisfied: contourpy>=1.0.1 in c:\\users\\ssafy\\appdata\\local\\programs\\python\\python39\\lib\\site-packages (from matplotlib) (1.1.0)\n",
      "Requirement already satisfied: pyparsing<3.1,>=2.3.1 in c:\\users\\ssafy\\appdata\\local\\programs\\python\\python39\\lib\\site-packages (from matplotlib) (3.0.9)\n",
      "Requirement already satisfied: fonttools>=4.22.0 in c:\\users\\ssafy\\appdata\\local\\programs\\python\\python39\\lib\\site-packages (from matplotlib) (4.41.1)\n",
      "Requirement already satisfied: numpy>=1.20 in c:\\users\\ssafy\\appdata\\local\\programs\\python\\python39\\lib\\site-packages (from matplotlib) (1.25.1)\n",
      "Requirement already satisfied: cycler>=0.10 in c:\\users\\ssafy\\appdata\\local\\programs\\python\\python39\\lib\\site-packages (from matplotlib) (0.11.0)\n",
      "Requirement already satisfied: kiwisolver>=1.0.1 in c:\\users\\ssafy\\appdata\\local\\programs\\python\\python39\\lib\\site-packages (from matplotlib) (1.4.4)\n",
      "Requirement already satisfied: python-dateutil>=2.7 in c:\\users\\ssafy\\appdata\\local\\programs\\python\\python39\\lib\\site-packages (from matplotlib) (2.8.2)\n",
      "Requirement already satisfied: pillow>=6.2.0 in c:\\users\\ssafy\\appdata\\local\\programs\\python\\python39\\lib\\site-packages (from matplotlib) (10.0.0)\n",
      "Requirement already satisfied: packaging>=20.0 in c:\\users\\ssafy\\appdata\\local\\programs\\python\\python39\\lib\\site-packages (from matplotlib) (23.1)\n",
      "Requirement already satisfied: zipp>=3.1.0 in c:\\users\\ssafy\\appdata\\local\\programs\\python\\python39\\lib\\site-packages (from importlib-resources>=3.2.0->matplotlib) (3.16.2)\n",
      "Requirement already satisfied: six>=1.5 in c:\\users\\ssafy\\appdata\\local\\programs\\python\\python39\\lib\\site-packages (from python-dateutil>=2.7->matplotlib) (1.16.0)\n",
      "Note: you may need to restart the kernel to use updated packages.\n"
     ]
    },
    {
     "name": "stderr",
     "output_type": "stream",
     "text": [
      "WARNING: You are using pip version 22.0.4; however, version 23.2.1 is available.\n",
      "You should consider upgrading via the 'C:\\Users\\SSAFY\\AppData\\Local\\Programs\\Python\\Python39\\python.exe -m pip install --upgrade pip' command.\n"
     ]
    }
   ],
   "source": [
    "pip install matplotlib"
   ]
  },
  {
   "cell_type": "code",
   "execution_count": 4,
   "id": "dc27c2be-d9e2-4779-b73a-5e2d692eac7a",
   "metadata": {},
   "outputs": [],
   "source": [
    "import csv\n",
    "import numpy as np\n",
    "import pandas as pd\n",
    "import matplotlib.pyplot as plt"
   ]
  },
  {
   "cell_type": "code",
   "execution_count": 5,
   "id": "420949bd-fb3a-463b-a118-68842ca050b0",
   "metadata": {},
   "outputs": [],
   "source": [
    "# CSV 파일 경로\n",
    "csv_path = 'C:/Users/SSAFY/Desktop/pjt 2일차/Netflix_Stock_Price_Prediction/NFLX.csv'"
   ]
  },
  {
   "cell_type": "code",
   "execution_count": 6,
   "id": "182c202c-a1e6-4fbc-9d82-3e413b2d845d",
   "metadata": {},
   "outputs": [],
   "source": [
    "# CSV 파일 읽어오기 (첫 번째, 마지막 열 제외)\n",
    "df = pd.read_csv(csv_path, usecols=range(0, 5))"
   ]
  },
  {
   "cell_type": "code",
   "execution_count": 7,
   "id": "21b3db83-cdcc-4ac5-ab57-0314fcb7ee11",
   "metadata": {},
   "outputs": [
    {
     "data": {
      "text/html": [
       "<div>\n",
       "<style scoped>\n",
       "    .dataframe tbody tr th:only-of-type {\n",
       "        vertical-align: middle;\n",
       "    }\n",
       "\n",
       "    .dataframe tbody tr th {\n",
       "        vertical-align: top;\n",
       "    }\n",
       "\n",
       "    .dataframe thead th {\n",
       "        text-align: right;\n",
       "    }\n",
       "</style>\n",
       "<table border=\"1\" class=\"dataframe\">\n",
       "  <thead>\n",
       "    <tr style=\"text-align: right;\">\n",
       "      <th></th>\n",
       "      <th>Date</th>\n",
       "      <th>Open</th>\n",
       "      <th>High</th>\n",
       "      <th>Low</th>\n",
       "      <th>Close</th>\n",
       "    </tr>\n",
       "  </thead>\n",
       "  <tbody>\n",
       "    <tr>\n",
       "      <th>0</th>\n",
       "      <td>2018-02-05</td>\n",
       "      <td>262.000000</td>\n",
       "      <td>267.899994</td>\n",
       "      <td>250.029999</td>\n",
       "      <td>254.259995</td>\n",
       "    </tr>\n",
       "    <tr>\n",
       "      <th>1</th>\n",
       "      <td>2018-02-06</td>\n",
       "      <td>247.699997</td>\n",
       "      <td>266.700012</td>\n",
       "      <td>245.000000</td>\n",
       "      <td>265.720001</td>\n",
       "    </tr>\n",
       "    <tr>\n",
       "      <th>2</th>\n",
       "      <td>2018-02-07</td>\n",
       "      <td>266.579987</td>\n",
       "      <td>272.450012</td>\n",
       "      <td>264.329987</td>\n",
       "      <td>264.559998</td>\n",
       "    </tr>\n",
       "    <tr>\n",
       "      <th>3</th>\n",
       "      <td>2018-02-08</td>\n",
       "      <td>267.079987</td>\n",
       "      <td>267.619995</td>\n",
       "      <td>250.000000</td>\n",
       "      <td>250.100006</td>\n",
       "    </tr>\n",
       "    <tr>\n",
       "      <th>4</th>\n",
       "      <td>2018-02-09</td>\n",
       "      <td>253.850006</td>\n",
       "      <td>255.800003</td>\n",
       "      <td>236.110001</td>\n",
       "      <td>249.470001</td>\n",
       "    </tr>\n",
       "    <tr>\n",
       "      <th>...</th>\n",
       "      <td>...</td>\n",
       "      <td>...</td>\n",
       "      <td>...</td>\n",
       "      <td>...</td>\n",
       "      <td>...</td>\n",
       "    </tr>\n",
       "    <tr>\n",
       "      <th>1004</th>\n",
       "      <td>2022-01-31</td>\n",
       "      <td>401.970001</td>\n",
       "      <td>427.700012</td>\n",
       "      <td>398.200012</td>\n",
       "      <td>427.140015</td>\n",
       "    </tr>\n",
       "    <tr>\n",
       "      <th>1005</th>\n",
       "      <td>2022-02-01</td>\n",
       "      <td>432.959991</td>\n",
       "      <td>458.480011</td>\n",
       "      <td>425.540009</td>\n",
       "      <td>457.130005</td>\n",
       "    </tr>\n",
       "    <tr>\n",
       "      <th>1006</th>\n",
       "      <td>2022-02-02</td>\n",
       "      <td>448.250000</td>\n",
       "      <td>451.980011</td>\n",
       "      <td>426.480011</td>\n",
       "      <td>429.480011</td>\n",
       "    </tr>\n",
       "    <tr>\n",
       "      <th>1007</th>\n",
       "      <td>2022-02-03</td>\n",
       "      <td>421.440002</td>\n",
       "      <td>429.260010</td>\n",
       "      <td>404.279999</td>\n",
       "      <td>405.600006</td>\n",
       "    </tr>\n",
       "    <tr>\n",
       "      <th>1008</th>\n",
       "      <td>2022-02-04</td>\n",
       "      <td>407.309998</td>\n",
       "      <td>412.769989</td>\n",
       "      <td>396.640015</td>\n",
       "      <td>410.170013</td>\n",
       "    </tr>\n",
       "  </tbody>\n",
       "</table>\n",
       "<p>1009 rows × 5 columns</p>\n",
       "</div>"
      ],
      "text/plain": [
       "            Date        Open        High         Low       Close\n",
       "0     2018-02-05  262.000000  267.899994  250.029999  254.259995\n",
       "1     2018-02-06  247.699997  266.700012  245.000000  265.720001\n",
       "2     2018-02-07  266.579987  272.450012  264.329987  264.559998\n",
       "3     2018-02-08  267.079987  267.619995  250.000000  250.100006\n",
       "4     2018-02-09  253.850006  255.800003  236.110001  249.470001\n",
       "...          ...         ...         ...         ...         ...\n",
       "1004  2022-01-31  401.970001  427.700012  398.200012  427.140015\n",
       "1005  2022-02-01  432.959991  458.480011  425.540009  457.130005\n",
       "1006  2022-02-02  448.250000  451.980011  426.480011  429.480011\n",
       "1007  2022-02-03  421.440002  429.260010  404.279999  405.600006\n",
       "1008  2022-02-04  407.309998  412.769989  396.640015  410.170013\n",
       "\n",
       "[1009 rows x 5 columns]"
      ]
     },
     "execution_count": 7,
     "metadata": {},
     "output_type": "execute_result"
    }
   ],
   "source": [
    "# DataFrame 출력\n",
    "df"
   ]
  },
  {
   "cell_type": "code",
   "execution_count": null,
   "id": "1af68aeb-3b40-40c2-8817-5fdbb917c380",
   "metadata": {},
   "outputs": [],
   "source": []
  }
 ],
 "metadata": {
  "kernelspec": {
   "display_name": "Python 3 (ipykernel)",
   "language": "python",
   "name": "python3"
  },
  "language_info": {
   "codemirror_mode": {
    "name": "ipython",
    "version": 3
   },
   "file_extension": ".py",
   "mimetype": "text/x-python",
   "name": "python",
   "nbconvert_exporter": "python",
   "pygments_lexer": "ipython3",
   "version": "3.9.13"
  }
 },
 "nbformat": 4,
 "nbformat_minor": 5
}
