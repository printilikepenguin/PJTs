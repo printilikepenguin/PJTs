{
 "cells": [
  {
   "cell_type": "code",
   "execution_count": 1,
   "id": "4a3cd867-32fb-45b4-8991-438193fdfae6",
   "metadata": {},
   "outputs": [
    {
     "name": "stdout",
     "output_type": "stream",
     "text": [
      "Requirement already satisfied: numpy in c:\\users\\ssafy\\appdata\\local\\programs\\python\\python39\\lib\\site-packages (1.25.1)\n",
      "Note: you may need to restart the kernel to use updated packages.\n"
     ]
    },
    {
     "name": "stderr",
     "output_type": "stream",
     "text": [
      "WARNING: You are using pip version 22.0.4; however, version 23.2.1 is available.\n",
      "You should consider upgrading via the 'C:\\Users\\SSAFY\\AppData\\Local\\Programs\\Python\\Python39\\python.exe -m pip install --upgrade pip' command.\n"
     ]
    }
   ],
   "source": [
    "pip install numpy"
   ]
  },
  {
   "cell_type": "code",
   "execution_count": 2,
   "id": "9c657415-fca4-4c84-ac2b-85ce5bfd8b30",
   "metadata": {},
   "outputs": [
    {
     "name": "stdout",
     "output_type": "stream",
     "text": [
      "Requirement already satisfied: pandas in c:\\users\\ssafy\\appdata\\local\\programs\\python\\python39\\lib\\site-packages (2.0.3)\n",
      "Requirement already satisfied: tzdata>=2022.1 in c:\\users\\ssafy\\appdata\\local\\programs\\python\\python39\\lib\\site-packages (from pandas) (2023.3)\n",
      "Requirement already satisfied: numpy>=1.20.3 in c:\\users\\ssafy\\appdata\\local\\programs\\python\\python39\\lib\\site-packages (from pandas) (1.25.1)\n",
      "Requirement already satisfied: pytz>=2020.1 in c:\\users\\ssafy\\appdata\\local\\programs\\python\\python39\\lib\\site-packages (from pandas) (2023.3)\n",
      "Requirement already satisfied: python-dateutil>=2.8.2 in c:\\users\\ssafy\\appdata\\local\\programs\\python\\python39\\lib\\site-packages (from pandas) (2.8.2)\n",
      "Requirement already satisfied: six>=1.5 in c:\\users\\ssafy\\appdata\\local\\programs\\python\\python39\\lib\\site-packages (from python-dateutil>=2.8.2->pandas) (1.16.0)\n",
      "Note: you may need to restart the kernel to use updated packages.\n"
     ]
    },
    {
     "name": "stderr",
     "output_type": "stream",
     "text": [
      "WARNING: You are using pip version 22.0.4; however, version 23.2.1 is available.\n",
      "You should consider upgrading via the 'C:\\Users\\SSAFY\\AppData\\Local\\Programs\\Python\\Python39\\python.exe -m pip install --upgrade pip' command.\n"
     ]
    }
   ],
   "source": [
    "pip install pandas"
   ]
  },
  {
   "cell_type": "code",
   "execution_count": 3,
   "id": "d8a5f151-cf88-408f-b322-a8b73490fe14",
   "metadata": {},
   "outputs": [
    {
     "name": "stdout",
     "output_type": "stream",
     "text": [
      "Requirement already satisfied: matplotlib in c:\\users\\ssafy\\appdata\\local\\programs\\python\\python39\\lib\\site-packages (3.7.2)\n",
      "Requirement already satisfied: cycler>=0.10 in c:\\users\\ssafy\\appdata\\local\\programs\\python\\python39\\lib\\site-packages (from matplotlib) (0.11.0)\n",
      "Requirement already satisfied: contourpy>=1.0.1 in c:\\users\\ssafy\\appdata\\local\\programs\\python\\python39\\lib\\site-packages (from matplotlib) (1.1.0)\n",
      "Requirement already satisfied: packaging>=20.0 in c:\\users\\ssafy\\appdata\\local\\programs\\python\\python39\\lib\\site-packages (from matplotlib) (23.1)\n",
      "Requirement already satisfied: importlib-resources>=3.2.0 in c:\\users\\ssafy\\appdata\\local\\programs\\python\\python39\\lib\\site-packages (from matplotlib) (6.0.0)\n",
      "Requirement already satisfied: kiwisolver>=1.0.1 in c:\\users\\ssafy\\appdata\\local\\programs\\python\\python39\\lib\\site-packages (from matplotlib) (1.4.4)\n",
      "Requirement already satisfied: pyparsing<3.1,>=2.3.1 in c:\\users\\ssafy\\appdata\\local\\programs\\python\\python39\\lib\\site-packages (from matplotlib) (3.0.9)\n",
      "Requirement already satisfied: pillow>=6.2.0 in c:\\users\\ssafy\\appdata\\local\\programs\\python\\python39\\lib\\site-packages (from matplotlib) (10.0.0)\n",
      "Requirement already satisfied: numpy>=1.20 in c:\\users\\ssafy\\appdata\\local\\programs\\python\\python39\\lib\\site-packages (from matplotlib) (1.25.1)\n",
      "Requirement already satisfied: python-dateutil>=2.7 in c:\\users\\ssafy\\appdata\\local\\programs\\python\\python39\\lib\\site-packages (from matplotlib) (2.8.2)\n",
      "Requirement already satisfied: fonttools>=4.22.0 in c:\\users\\ssafy\\appdata\\local\\programs\\python\\python39\\lib\\site-packages (from matplotlib) (4.41.1)\n",
      "Requirement already satisfied: zipp>=3.1.0 in c:\\users\\ssafy\\appdata\\local\\programs\\python\\python39\\lib\\site-packages (from importlib-resources>=3.2.0->matplotlib) (3.16.2)\n",
      "Requirement already satisfied: six>=1.5 in c:\\users\\ssafy\\appdata\\local\\programs\\python\\python39\\lib\\site-packages (from python-dateutil>=2.7->matplotlib) (1.16.0)\n",
      "Note: you may need to restart the kernel to use updated packages.\n"
     ]
    },
    {
     "name": "stderr",
     "output_type": "stream",
     "text": [
      "WARNING: You are using pip version 22.0.4; however, version 23.2.1 is available.\n",
      "You should consider upgrading via the 'C:\\Users\\SSAFY\\AppData\\Local\\Programs\\Python\\Python39\\python.exe -m pip install --upgrade pip' command.\n"
     ]
    }
   ],
   "source": [
    "pip install matplotlib"
   ]
  },
  {
   "cell_type": "code",
   "execution_count": 4,
   "id": "963991cb-8d2d-4e5d-9c80-b5d982da9c9d",
   "metadata": {},
   "outputs": [],
   "source": [
    "import csv\n",
    "import numpy as np\n",
    "import pandas as pd\n",
    "import matplotlib.pyplot as plt"
   ]
  },
  {
   "cell_type": "code",
   "execution_count": 5,
   "id": "57d51dd1-4556-466e-8b95-38c8ab816422",
   "metadata": {},
   "outputs": [
    {
     "data": {
      "text/html": [
       "<div>\n",
       "<style scoped>\n",
       "    .dataframe tbody tr th:only-of-type {\n",
       "        vertical-align: middle;\n",
       "    }\n",
       "\n",
       "    .dataframe tbody tr th {\n",
       "        vertical-align: top;\n",
       "    }\n",
       "\n",
       "    .dataframe thead th {\n",
       "        text-align: right;\n",
       "    }\n",
       "</style>\n",
       "<table border=\"1\" class=\"dataframe\">\n",
       "  <thead>\n",
       "    <tr style=\"text-align: right;\">\n",
       "      <th></th>\n",
       "      <th>Date</th>\n",
       "      <th>Open</th>\n",
       "      <th>High</th>\n",
       "      <th>Low</th>\n",
       "      <th>Close</th>\n",
       "    </tr>\n",
       "  </thead>\n",
       "  <tbody>\n",
       "    <tr>\n",
       "      <th>733</th>\n",
       "      <td>2021-01-04</td>\n",
       "      <td>539.000000</td>\n",
       "      <td>540.799988</td>\n",
       "      <td>515.090027</td>\n",
       "      <td>522.859985</td>\n",
       "    </tr>\n",
       "    <tr>\n",
       "      <th>734</th>\n",
       "      <td>2021-01-05</td>\n",
       "      <td>521.549988</td>\n",
       "      <td>526.780029</td>\n",
       "      <td>515.890015</td>\n",
       "      <td>520.799988</td>\n",
       "    </tr>\n",
       "    <tr>\n",
       "      <th>735</th>\n",
       "      <td>2021-01-06</td>\n",
       "      <td>511.970001</td>\n",
       "      <td>513.099976</td>\n",
       "      <td>499.500000</td>\n",
       "      <td>500.489990</td>\n",
       "    </tr>\n",
       "    <tr>\n",
       "      <th>736</th>\n",
       "      <td>2021-01-07</td>\n",
       "      <td>508.279999</td>\n",
       "      <td>516.440002</td>\n",
       "      <td>506.420013</td>\n",
       "      <td>508.890015</td>\n",
       "    </tr>\n",
       "    <tr>\n",
       "      <th>737</th>\n",
       "      <td>2021-01-08</td>\n",
       "      <td>511.309998</td>\n",
       "      <td>513.239990</td>\n",
       "      <td>504.510010</td>\n",
       "      <td>510.399994</td>\n",
       "    </tr>\n",
       "    <tr>\n",
       "      <th>...</th>\n",
       "      <td>...</td>\n",
       "      <td>...</td>\n",
       "      <td>...</td>\n",
       "      <td>...</td>\n",
       "      <td>...</td>\n",
       "    </tr>\n",
       "    <tr>\n",
       "      <th>1004</th>\n",
       "      <td>2022-01-31</td>\n",
       "      <td>401.970001</td>\n",
       "      <td>427.700012</td>\n",
       "      <td>398.200012</td>\n",
       "      <td>427.140015</td>\n",
       "    </tr>\n",
       "    <tr>\n",
       "      <th>1005</th>\n",
       "      <td>2022-02-01</td>\n",
       "      <td>432.959991</td>\n",
       "      <td>458.480011</td>\n",
       "      <td>425.540009</td>\n",
       "      <td>457.130005</td>\n",
       "    </tr>\n",
       "    <tr>\n",
       "      <th>1006</th>\n",
       "      <td>2022-02-02</td>\n",
       "      <td>448.250000</td>\n",
       "      <td>451.980011</td>\n",
       "      <td>426.480011</td>\n",
       "      <td>429.480011</td>\n",
       "    </tr>\n",
       "    <tr>\n",
       "      <th>1007</th>\n",
       "      <td>2022-02-03</td>\n",
       "      <td>421.440002</td>\n",
       "      <td>429.260010</td>\n",
       "      <td>404.279999</td>\n",
       "      <td>405.600006</td>\n",
       "    </tr>\n",
       "    <tr>\n",
       "      <th>1008</th>\n",
       "      <td>2022-02-04</td>\n",
       "      <td>407.309998</td>\n",
       "      <td>412.769989</td>\n",
       "      <td>396.640015</td>\n",
       "      <td>410.170013</td>\n",
       "    </tr>\n",
       "  </tbody>\n",
       "</table>\n",
       "<p>276 rows × 5 columns</p>\n",
       "</div>"
      ],
      "text/plain": [
       "            Date        Open        High         Low       Close\n",
       "733   2021-01-04  539.000000  540.799988  515.090027  522.859985\n",
       "734   2021-01-05  521.549988  526.780029  515.890015  520.799988\n",
       "735   2021-01-06  511.970001  513.099976  499.500000  500.489990\n",
       "736   2021-01-07  508.279999  516.440002  506.420013  508.890015\n",
       "737   2021-01-08  511.309998  513.239990  504.510010  510.399994\n",
       "...          ...         ...         ...         ...         ...\n",
       "1004  2022-01-31  401.970001  427.700012  398.200012  427.140015\n",
       "1005  2022-02-01  432.959991  458.480011  425.540009  457.130005\n",
       "1006  2022-02-02  448.250000  451.980011  426.480011  429.480011\n",
       "1007  2022-02-03  421.440002  429.260010  404.279999  405.600006\n",
       "1008  2022-02-04  407.309998  412.769989  396.640015  410.170013\n",
       "\n",
       "[276 rows x 5 columns]"
      ]
     },
     "execution_count": 5,
     "metadata": {},
     "output_type": "execute_result"
    }
   ],
   "source": [
    "# CSV 파일 경로\n",
    "csv_path = 'C:/Users/SSAFY/Desktop/pjt 2일차/Netflix_Stock_Price_Prediction/NFLX.csv'\n",
    "\n",
    "# CSV 파일 읽어오기 (첫 번째, 마지막 열 제외)\n",
    "new_df = pd.read_csv(csv_path, usecols=range(0, 5))\n",
    "\n",
    "# 2022년 이후 데이터 필터링\n",
    "df_after_2021 = new_df[new_df[\"Date\"] >= \"2021-01-01\"] # 이 날부터 큰것만 뽑아라\n",
    "\n",
    "# 출력하기\n",
    "df_after_2021"
   ]
  },
  {
   "cell_type": "code",
   "execution_count": 6,
   "id": "b5d810a0-28eb-418e-94c6-f4fec275470e",
   "metadata": {},
   "outputs": [],
   "source": [
    "# 최고, 최저 종가 출력하기\n",
    "max_price = df_after_2021['Close'].max()\n",
    "min_price = df_after_2021['Close'].min()"
   ]
  },
  {
   "cell_type": "code",
   "execution_count": 7,
   "id": "12846e8e-aeb9-4a9d-b820-3836a0ee4f7f",
   "metadata": {},
   "outputs": [
    {
     "name": "stdout",
     "output_type": "stream",
     "text": [
      "최고 종가: 691.690002\n",
      "최저 종가: 359.700012\n"
     ]
    }
   ],
   "source": [
    "print(\"최고 종가:\", max_price)\n",
    "print(\"최저 종가:\", min_price)"
   ]
  },
  {
   "cell_type": "code",
   "execution_count": null,
   "id": "8b9e01ea-96cd-427f-ac2e-1287cc543b7c",
   "metadata": {},
   "outputs": [],
   "source": []
  }
 ],
 "metadata": {
  "kernelspec": {
   "display_name": "Python 3 (ipykernel)",
   "language": "python",
   "name": "python3"
  },
  "language_info": {
   "codemirror_mode": {
    "name": "ipython",
    "version": 3
   },
   "file_extension": ".py",
   "mimetype": "text/x-python",
   "name": "python",
   "nbconvert_exporter": "python",
   "pygments_lexer": "ipython3",
   "version": "3.9.13"
  }
 },
 "nbformat": 4,
 "nbformat_minor": 5
}
