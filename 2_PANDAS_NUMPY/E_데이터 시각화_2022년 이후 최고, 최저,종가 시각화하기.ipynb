{
 "cells": [
  {
   "cell_type": "code",
   "execution_count": 1,
   "id": "bfebb79e-e09e-4a96-8b07-4ef82d6eb134",
   "metadata": {},
   "outputs": [
    {
     "name": "stdout",
     "output_type": "stream",
     "text": [
      "Requirement already satisfied: numpy in c:\\users\\ssafy\\appdata\\local\\programs\\python\\python39\\lib\\site-packages (1.25.1)\n",
      "Note: you may need to restart the kernel to use updated packages.\n"
     ]
    },
    {
     "name": "stderr",
     "output_type": "stream",
     "text": [
      "WARNING: You are using pip version 22.0.4; however, version 23.2.1 is available.\n",
      "You should consider upgrading via the 'C:\\Users\\SSAFY\\AppData\\Local\\Programs\\Python\\Python39\\python.exe -m pip install --upgrade pip' command.\n"
     ]
    }
   ],
   "source": [
    "pip install numpy"
   ]
  },
  {
   "cell_type": "code",
   "execution_count": 2,
   "id": "d040a847-2191-4ba8-8f29-48958413fb6e",
   "metadata": {},
   "outputs": [
    {
     "name": "stdout",
     "output_type": "stream",
     "text": [
      "Requirement already satisfied: pandas in c:\\users\\ssafy\\appdata\\local\\programs\\python\\python39\\lib\\site-packages (2.0.3)Note: you may need to restart the kernel to use updated packages.\n"
     ]
    },
    {
     "name": "stderr",
     "output_type": "stream",
     "text": [
      "WARNING: You are using pip version 22.0.4; however, version 23.2.1 is available.\n",
      "You should consider upgrading via the 'C:\\Users\\SSAFY\\AppData\\Local\\Programs\\Python\\Python39\\python.exe -m pip install --upgrade pip' command.\n"
     ]
    },
    {
     "name": "stdout",
     "output_type": "stream",
     "text": [
      "\n",
      "Requirement already satisfied: numpy>=1.20.3 in c:\\users\\ssafy\\appdata\\local\\programs\\python\\python39\\lib\\site-packages (from pandas) (1.25.1)\n",
      "Requirement already satisfied: tzdata>=2022.1 in c:\\users\\ssafy\\appdata\\local\\programs\\python\\python39\\lib\\site-packages (from pandas) (2023.3)\n",
      "Requirement already satisfied: python-dateutil>=2.8.2 in c:\\users\\ssafy\\appdata\\local\\programs\\python\\python39\\lib\\site-packages (from pandas) (2.8.2)\n",
      "Requirement already satisfied: pytz>=2020.1 in c:\\users\\ssafy\\appdata\\local\\programs\\python\\python39\\lib\\site-packages (from pandas) (2023.3)\n",
      "Requirement already satisfied: six>=1.5 in c:\\users\\ssafy\\appdata\\local\\programs\\python\\python39\\lib\\site-packages (from python-dateutil>=2.8.2->pandas) (1.16.0)\n"
     ]
    }
   ],
   "source": [
    "pip install pandas"
   ]
  },
  {
   "cell_type": "code",
   "execution_count": 3,
   "id": "afff8a58-160a-4a33-be12-e016aa3d3c51",
   "metadata": {},
   "outputs": [
    {
     "name": "stdout",
     "output_type": "stream",
     "text": [
      "Requirement already satisfied: matplotlib in c:\\users\\ssafy\\appdata\\local\\programs\\python\\python39\\lib\\site-packages (3.7.2)\n",
      "Requirement already satisfied: packaging>=20.0 in c:\\users\\ssafy\\appdata\\local\\programs\\python\\python39\\lib\\site-packages (from matplotlib) (23.1)\n",
      "Requirement already satisfied: fonttools>=4.22.0 in c:\\users\\ssafy\\appdata\\local\\programs\\python\\python39\\lib\\site-packages (from matplotlib) (4.41.1)\n",
      "Requirement already satisfied: pyparsing<3.1,>=2.3.1 in c:\\users\\ssafy\\appdata\\local\\programs\\python\\python39\\lib\\site-packages (from matplotlib) (3.0.9)\n",
      "Requirement already satisfied: importlib-resources>=3.2.0 in c:\\users\\ssafy\\appdata\\local\\programs\\python\\python39\\lib\\site-packages (from matplotlib) (6.0.0)\n",
      "Requirement already satisfied: cycler>=0.10 in c:\\users\\ssafy\\appdata\\local\\programs\\python\\python39\\lib\\site-packages (from matplotlib) (0.11.0)\n",
      "Requirement already satisfied: numpy>=1.20 in c:\\users\\ssafy\\appdata\\local\\programs\\python\\python39\\lib\\site-packages (from matplotlib) (1.25.1)\n",
      "Requirement already satisfied: pillow>=6.2.0 in c:\\users\\ssafy\\appdata\\local\\programs\\python\\python39\\lib\\site-packages (from matplotlib) (10.0.0)\n",
      "Requirement already satisfied: contourpy>=1.0.1 in c:\\users\\ssafy\\appdata\\local\\programs\\python\\python39\\lib\\site-packages (from matplotlib) (1.1.0)\n",
      "Requirement already satisfied: python-dateutil>=2.7 in c:\\users\\ssafy\\appdata\\local\\programs\\python\\python39\\lib\\site-packages (from matplotlib) (2.8.2)\n",
      "Requirement already satisfied: kiwisolver>=1.0.1 in c:\\users\\ssafy\\appdata\\local\\programs\\python\\python39\\lib\\site-packages (from matplotlib) (1.4.4)\n",
      "Requirement already satisfied: zipp>=3.1.0 in c:\\users\\ssafy\\appdata\\local\\programs\\python\\python39\\lib\\site-packages (from importlib-resources>=3.2.0->matplotlib) (3.16.2)\n",
      "Requirement already satisfied: six>=1.5 in c:\\users\\ssafy\\appdata\\local\\programs\\python\\python39\\lib\\site-packages (from python-dateutil>=2.7->matplotlib) (1.16.0)\n",
      "Note: you may need to restart the kernel to use updated packages.\n"
     ]
    },
    {
     "name": "stderr",
     "output_type": "stream",
     "text": [
      "WARNING: You are using pip version 22.0.4; however, version 23.2.1 is available.\n",
      "You should consider upgrading via the 'C:\\Users\\SSAFY\\AppData\\Local\\Programs\\Python\\Python39\\python.exe -m pip install --upgrade pip' command.\n"
     ]
    }
   ],
   "source": [
    "pip install matplotlib"
   ]
  },
  {
   "cell_type": "code",
   "execution_count": 4,
   "id": "f2cb8641-0c87-4289-b5f5-d02ac8b9abad",
   "metadata": {},
   "outputs": [],
   "source": [
    "import csv\n",
    "import numpy as np\n",
    "import pandas as pd\n",
    "import matplotlib.pyplot as plt"
   ]
  },
  {
   "cell_type": "code",
   "execution_count": 5,
   "id": "53fd0514-79c2-44b9-bf6c-1ba79c548bef",
   "metadata": {},
   "outputs": [
    {
     "data": {
      "text/html": [
       "<div>\n",
       "<style scoped>\n",
       "    .dataframe tbody tr th:only-of-type {\n",
       "        vertical-align: middle;\n",
       "    }\n",
       "\n",
       "    .dataframe tbody tr th {\n",
       "        vertical-align: top;\n",
       "    }\n",
       "\n",
       "    .dataframe thead th {\n",
       "        text-align: right;\n",
       "    }\n",
       "</style>\n",
       "<table border=\"1\" class=\"dataframe\">\n",
       "  <thead>\n",
       "    <tr style=\"text-align: right;\">\n",
       "      <th></th>\n",
       "      <th>Date</th>\n",
       "      <th>Open</th>\n",
       "      <th>High</th>\n",
       "      <th>Low</th>\n",
       "      <th>Close</th>\n",
       "    </tr>\n",
       "  </thead>\n",
       "  <tbody>\n",
       "    <tr>\n",
       "      <th>985</th>\n",
       "      <td>2022-01-03</td>\n",
       "      <td>605.609985</td>\n",
       "      <td>609.989990</td>\n",
       "      <td>590.559998</td>\n",
       "      <td>597.369995</td>\n",
       "    </tr>\n",
       "    <tr>\n",
       "      <th>986</th>\n",
       "      <td>2022-01-04</td>\n",
       "      <td>599.909973</td>\n",
       "      <td>600.409973</td>\n",
       "      <td>581.599976</td>\n",
       "      <td>591.150024</td>\n",
       "    </tr>\n",
       "    <tr>\n",
       "      <th>987</th>\n",
       "      <td>2022-01-05</td>\n",
       "      <td>592.000000</td>\n",
       "      <td>592.840027</td>\n",
       "      <td>566.880005</td>\n",
       "      <td>567.520020</td>\n",
       "    </tr>\n",
       "    <tr>\n",
       "      <th>988</th>\n",
       "      <td>2022-01-06</td>\n",
       "      <td>554.340027</td>\n",
       "      <td>563.359985</td>\n",
       "      <td>542.010010</td>\n",
       "      <td>553.289978</td>\n",
       "    </tr>\n",
       "    <tr>\n",
       "      <th>989</th>\n",
       "      <td>2022-01-07</td>\n",
       "      <td>549.460022</td>\n",
       "      <td>553.429993</td>\n",
       "      <td>538.219971</td>\n",
       "      <td>541.059998</td>\n",
       "    </tr>\n",
       "    <tr>\n",
       "      <th>990</th>\n",
       "      <td>2022-01-10</td>\n",
       "      <td>538.489990</td>\n",
       "      <td>543.690002</td>\n",
       "      <td>526.320007</td>\n",
       "      <td>539.849976</td>\n",
       "    </tr>\n",
       "    <tr>\n",
       "      <th>991</th>\n",
       "      <td>2022-01-11</td>\n",
       "      <td>536.989990</td>\n",
       "      <td>543.909973</td>\n",
       "      <td>530.070007</td>\n",
       "      <td>540.840027</td>\n",
       "    </tr>\n",
       "    <tr>\n",
       "      <th>992</th>\n",
       "      <td>2022-01-12</td>\n",
       "      <td>544.270020</td>\n",
       "      <td>544.270020</td>\n",
       "      <td>532.020020</td>\n",
       "      <td>537.219971</td>\n",
       "    </tr>\n",
       "    <tr>\n",
       "      <th>993</th>\n",
       "      <td>2022-01-13</td>\n",
       "      <td>537.059998</td>\n",
       "      <td>540.789978</td>\n",
       "      <td>518.260010</td>\n",
       "      <td>519.200012</td>\n",
       "    </tr>\n",
       "    <tr>\n",
       "      <th>994</th>\n",
       "      <td>2022-01-14</td>\n",
       "      <td>517.599976</td>\n",
       "      <td>538.369995</td>\n",
       "      <td>511.880005</td>\n",
       "      <td>525.690002</td>\n",
       "    </tr>\n",
       "    <tr>\n",
       "      <th>995</th>\n",
       "      <td>2022-01-18</td>\n",
       "      <td>520.080017</td>\n",
       "      <td>521.750000</td>\n",
       "      <td>508.679993</td>\n",
       "      <td>510.799988</td>\n",
       "    </tr>\n",
       "    <tr>\n",
       "      <th>996</th>\n",
       "      <td>2022-01-19</td>\n",
       "      <td>515.000000</td>\n",
       "      <td>523.210022</td>\n",
       "      <td>510.510010</td>\n",
       "      <td>515.859985</td>\n",
       "    </tr>\n",
       "    <tr>\n",
       "      <th>997</th>\n",
       "      <td>2022-01-20</td>\n",
       "      <td>517.750000</td>\n",
       "      <td>526.640015</td>\n",
       "      <td>506.929993</td>\n",
       "      <td>508.250000</td>\n",
       "    </tr>\n",
       "    <tr>\n",
       "      <th>998</th>\n",
       "      <td>2022-01-21</td>\n",
       "      <td>400.429993</td>\n",
       "      <td>409.149994</td>\n",
       "      <td>379.989990</td>\n",
       "      <td>397.500000</td>\n",
       "    </tr>\n",
       "    <tr>\n",
       "      <th>999</th>\n",
       "      <td>2022-01-24</td>\n",
       "      <td>383.910004</td>\n",
       "      <td>387.260010</td>\n",
       "      <td>351.459991</td>\n",
       "      <td>387.149994</td>\n",
       "    </tr>\n",
       "    <tr>\n",
       "      <th>1000</th>\n",
       "      <td>2022-01-25</td>\n",
       "      <td>379.140015</td>\n",
       "      <td>387.709991</td>\n",
       "      <td>365.130005</td>\n",
       "      <td>366.420013</td>\n",
       "    </tr>\n",
       "    <tr>\n",
       "      <th>1001</th>\n",
       "      <td>2022-01-26</td>\n",
       "      <td>378.269989</td>\n",
       "      <td>382.660004</td>\n",
       "      <td>356.619995</td>\n",
       "      <td>359.700012</td>\n",
       "    </tr>\n",
       "    <tr>\n",
       "      <th>1002</th>\n",
       "      <td>2022-01-27</td>\n",
       "      <td>382.059998</td>\n",
       "      <td>394.799988</td>\n",
       "      <td>378.100006</td>\n",
       "      <td>386.700012</td>\n",
       "    </tr>\n",
       "    <tr>\n",
       "      <th>1003</th>\n",
       "      <td>2022-01-28</td>\n",
       "      <td>386.760010</td>\n",
       "      <td>387.000000</td>\n",
       "      <td>372.079987</td>\n",
       "      <td>384.359985</td>\n",
       "    </tr>\n",
       "    <tr>\n",
       "      <th>1004</th>\n",
       "      <td>2022-01-31</td>\n",
       "      <td>401.970001</td>\n",
       "      <td>427.700012</td>\n",
       "      <td>398.200012</td>\n",
       "      <td>427.140015</td>\n",
       "    </tr>\n",
       "    <tr>\n",
       "      <th>1005</th>\n",
       "      <td>2022-02-01</td>\n",
       "      <td>432.959991</td>\n",
       "      <td>458.480011</td>\n",
       "      <td>425.540009</td>\n",
       "      <td>457.130005</td>\n",
       "    </tr>\n",
       "    <tr>\n",
       "      <th>1006</th>\n",
       "      <td>2022-02-02</td>\n",
       "      <td>448.250000</td>\n",
       "      <td>451.980011</td>\n",
       "      <td>426.480011</td>\n",
       "      <td>429.480011</td>\n",
       "    </tr>\n",
       "    <tr>\n",
       "      <th>1007</th>\n",
       "      <td>2022-02-03</td>\n",
       "      <td>421.440002</td>\n",
       "      <td>429.260010</td>\n",
       "      <td>404.279999</td>\n",
       "      <td>405.600006</td>\n",
       "    </tr>\n",
       "    <tr>\n",
       "      <th>1008</th>\n",
       "      <td>2022-02-04</td>\n",
       "      <td>407.309998</td>\n",
       "      <td>412.769989</td>\n",
       "      <td>396.640015</td>\n",
       "      <td>410.170013</td>\n",
       "    </tr>\n",
       "  </tbody>\n",
       "</table>\n",
       "</div>"
      ],
      "text/plain": [
       "            Date        Open        High         Low       Close\n",
       "985   2022-01-03  605.609985  609.989990  590.559998  597.369995\n",
       "986   2022-01-04  599.909973  600.409973  581.599976  591.150024\n",
       "987   2022-01-05  592.000000  592.840027  566.880005  567.520020\n",
       "988   2022-01-06  554.340027  563.359985  542.010010  553.289978\n",
       "989   2022-01-07  549.460022  553.429993  538.219971  541.059998\n",
       "990   2022-01-10  538.489990  543.690002  526.320007  539.849976\n",
       "991   2022-01-11  536.989990  543.909973  530.070007  540.840027\n",
       "992   2022-01-12  544.270020  544.270020  532.020020  537.219971\n",
       "993   2022-01-13  537.059998  540.789978  518.260010  519.200012\n",
       "994   2022-01-14  517.599976  538.369995  511.880005  525.690002\n",
       "995   2022-01-18  520.080017  521.750000  508.679993  510.799988\n",
       "996   2022-01-19  515.000000  523.210022  510.510010  515.859985\n",
       "997   2022-01-20  517.750000  526.640015  506.929993  508.250000\n",
       "998   2022-01-21  400.429993  409.149994  379.989990  397.500000\n",
       "999   2022-01-24  383.910004  387.260010  351.459991  387.149994\n",
       "1000  2022-01-25  379.140015  387.709991  365.130005  366.420013\n",
       "1001  2022-01-26  378.269989  382.660004  356.619995  359.700012\n",
       "1002  2022-01-27  382.059998  394.799988  378.100006  386.700012\n",
       "1003  2022-01-28  386.760010  387.000000  372.079987  384.359985\n",
       "1004  2022-01-31  401.970001  427.700012  398.200012  427.140015\n",
       "1005  2022-02-01  432.959991  458.480011  425.540009  457.130005\n",
       "1006  2022-02-02  448.250000  451.980011  426.480011  429.480011\n",
       "1007  2022-02-03  421.440002  429.260010  404.279999  405.600006\n",
       "1008  2022-02-04  407.309998  412.769989  396.640015  410.170013"
      ]
     },
     "execution_count": 5,
     "metadata": {},
     "output_type": "execute_result"
    }
   ],
   "source": [
    "# CSV 파일 경로\n",
    "csv_path = 'C:/Users/SSAFY/Desktop/pjt 2일차/Netflix_Stock_Price_Prediction/NFLX.csv'\n",
    "\n",
    "# CSV 파일 읽어오기 (첫 번째, 마지막 열 제외)\n",
    "new_df = pd.read_csv(csv_path, usecols=range(0, 5))\n",
    "\n",
    "# 2022년 이후 데이터 필터링\n",
    "df_after_2022 = new_df[new_df[\"Date\"] >= \"2022-01-01\"] # 이 날부터 큰것만 뽑아라\n",
    "\n",
    "# 출력하기\n",
    "df_after_2022"
   ]
  },
  {
   "cell_type": "code",
   "execution_count": 12,
   "id": "d5c7b3d8-1ad4-4048-8ac1-b3752d6f84a9",
   "metadata": {},
   "outputs": [
    {
     "name": "stderr",
     "output_type": "stream",
     "text": [
      "C:\\Users\\SSAFY\\AppData\\Local\\Temp\\ipykernel_14640\\1784320393.py:1: SettingWithCopyWarning: \n",
      "A value is trying to be set on a copy of a slice from a DataFrame.\n",
      "Try using .loc[row_indexer,col_indexer] = value instead\n",
      "\n",
      "See the caveats in the documentation: https://pandas.pydata.org/pandas-docs/stable/user_guide/indexing.html#returning-a-view-versus-a-copy\n",
      "  df_after_2022[\"Date\"] = pd.to_datetime(df_after_2022[\"Date\"])\n"
     ]
    },
    {
     "data": {
      "text/plain": [
       "Date     datetime64[ns]\n",
       "Open            float64\n",
       "High            float64\n",
       "Low             float64\n",
       "Close           float64\n",
       "dtype: object"
      ]
     },
     "execution_count": 12,
     "metadata": {},
     "output_type": "execute_result"
    }
   ],
   "source": [
    "df_after_2022[\"Date\"] = pd.to_datetime(df_after_2022[\"Date\"])\n",
    "\n",
    "df_after_2022.dtypes"
   ]
  },
  {
   "cell_type": "code",
   "execution_count": 13,
   "id": "ef5bb01e-a588-4418-992f-a54a3f28aa53",
   "metadata": {},
   "outputs": [
    {
     "data": {
      "image/png": "[encoded data removed]",
      "text/plain": [
       "<Figure size 640x480 with 1 Axes>"
      ]
     },
     "metadata": {},
     "output_type": "display_data"
    }
   ],
   "source": [
    "# 그래프 그리기\n",
    "plt.plot(df_after_2022['Date'], df_after_2022['High'], label='High')\n",
    "plt.plot(df_after_2022['Date'], df_after_2022['Low'], label='Low')\n",
    "plt.plot(df_after_2022['Date'], df_after_2022['Close'], label='Close')\n",
    "\n",
    "# 그래프 제목 설정\n",
    "plt.title('High, Low, CLose Prices since January 2022')\n",
    "\n",
    "# x축 레이블 설정\n",
    "plt.xlabel('Date')\n",
    "\n",
    "# y축 레이블 설정\n",
    "plt.ylabel('Price')\n",
    "\n",
    "# x 축 설정(회전시키기)\n",
    "plt.xticks(rotation=45)\n",
    "\n",
    "# 범례 표시\n",
    "plt.legend()\n",
    "\n",
    "# 그래프 표시\n",
    "plt.show()"
   ]
  },
  {
   "cell_type": "code",
   "execution_count": null,
   "id": "d097604d-3dc8-4988-9d88-7d28ebad619c",
   "metadata": {},
   "outputs": [],
   "source": []
  }
 ],
 "metadata": {
  "kernelspec": {
   "display_name": "Python 3 (ipykernel)",
   "language": "python",
   "name": "python3"
  },
  "language_info": {
   "codemirror_mode": {
    "name": "ipython",
    "version": 3
   },
   "file_extension": ".py",
   "mimetype": "text/x-python",
   "name": "python",
   "nbconvert_exporter": "python",
   "pygments_lexer": "ipython3",
   "version": "3.9.13"
  }
 },
 "nbformat": 4,
 "nbformat_minor": 5
}
