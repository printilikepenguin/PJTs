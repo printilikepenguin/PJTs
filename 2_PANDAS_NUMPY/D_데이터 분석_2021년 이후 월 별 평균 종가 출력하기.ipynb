{
 "cells": [
  {
   "cell_type": "code",
   "execution_count": 13,
   "id": "232a6dce-c79b-4559-8a3e-b5a7cd1b3241",
   "metadata": {},
   "outputs": [
    {
     "name": "stdout",
     "output_type": "stream",
     "text": [
      "Requirement already satisfied: numpy in c:\\users\\ssafy\\appdata\\local\\programs\\python\\python39\\lib\\site-packages (1.25.1)\n",
      "Note: you may need to restart the kernel to use updated packages.\n"
     ]
    },
    {
     "name": "stderr",
     "output_type": "stream",
     "text": [
      "WARNING: You are using pip version 22.0.4; however, version 23.2.1 is available.\n",
      "You should consider upgrading via the 'C:\\Users\\SSAFY\\AppData\\Local\\Programs\\Python\\Python39\\python.exe -m pip install --upgrade pip' command.\n"
     ]
    }
   ],
   "source": [
    "pip install numpy"
   ]
  },
  {
   "cell_type": "code",
   "execution_count": 14,
   "id": "1ed7634e-fd5c-43f8-9db3-83586dd7e69b",
   "metadata": {},
   "outputs": [
    {
     "name": "stdout",
     "output_type": "stream",
     "text": [
      "Requirement already satisfied: pandas in c:\\users\\ssafy\\appdata\\local\\programs\\python\\python39\\lib\\site-packages (2.0.3)\n",
      "Requirement already satisfied: python-dateutil>=2.8.2 in c:\\users\\ssafy\\appdata\\local\\programs\\python\\python39\\lib\\site-packages (from pandas) (2.8.2)\n",
      "Requirement already satisfied: pytz>=2020.1 in c:\\users\\ssafy\\appdata\\local\\programs\\python\\python39\\lib\\site-packages (from pandas) (2023.3)\n",
      "Requirement already satisfied: numpy>=1.20.3 in c:\\users\\ssafy\\appdata\\local\\programs\\python\\python39\\lib\\site-packages (from pandas) (1.25.1)\n",
      "Requirement already satisfied: tzdata>=2022.1 in c:\\users\\ssafy\\appdata\\local\\programs\\python\\python39\\lib\\site-packages (from pandas) (2023.3)\n",
      "Requirement already satisfied: six>=1.5 in c:\\users\\ssafy\\appdata\\local\\programs\\python\\python39\\lib\\site-packages (from python-dateutil>=2.8.2->pandas) (1.16.0)\n",
      "Note: you may need to restart the kernel to use updated packages.\n"
     ]
    },
    {
     "name": "stderr",
     "output_type": "stream",
     "text": [
      "WARNING: You are using pip version 22.0.4; however, version 23.2.1 is available.\n",
      "You should consider upgrading via the 'C:\\Users\\SSAFY\\AppData\\Local\\Programs\\Python\\Python39\\python.exe -m pip install --upgrade pip' command.\n"
     ]
    }
   ],
   "source": [
    "pip install pandas"
   ]
  },
  {
   "cell_type": "code",
   "execution_count": 15,
   "id": "fb8cf94b-bc58-49ec-984f-f9350e702e37",
   "metadata": {},
   "outputs": [
    {
     "name": "stdout",
     "output_type": "stream",
     "text": [
      "Note: you may need to restart the kernel to use updated packages.\n",
      "Requirement already satisfied: matplotlib in c:\\users\\ssafy\\appdata\\local\\programs\\python\\python39\\lib\\site-packages (3.7.2)\n",
      "Requirement already satisfied: cycler>=0.10 in c:\\users\\ssafy\\appdata\\local\\programs\\python\\python39\\lib\\site-packages (from matplotlib) (0.11.0)\n",
      "Requirement already satisfied: contourpy>=1.0.1 in c:\\users\\ssafy\\appdata\\local\\programs\\python\\python39\\lib\\site-packages (from matplotlib) (1.1.0)\n",
      "Requirement already satisfied: packaging>=20.0 in c:\\users\\ssafy\\appdata\\local\\programs\\python\\python39\\lib\\site-packages (from matplotlib) (23.1)\n",
      "Requirement already satisfied: kiwisolver>=1.0.1 in c:\\users\\ssafy\\appdata\\local\\programs\\python\\python39\\lib\\site-packages (from matplotlib) (1.4.4)\n",
      "Requirement already satisfied: importlib-resources>=3.2.0 in c:\\users\\ssafy\\appdata\\local\\programs\\python\\python39\\lib\\site-packages (from matplotlib) (6.0.0)\n",
      "Requirement already satisfied: pillow>=6.2.0 in c:\\users\\ssafy\\appdata\\local\\programs\\python\\python39\\lib\\site-packages (from matplotlib) (10.0.0)\n",
      "Requirement already satisfied: numpy>=1.20 in c:\\users\\ssafy\\appdata\\local\\programs\\python\\python39\\lib\\site-packages (from matplotlib) (1.25.1)\n",
      "Requirement already satisfied: pyparsing<3.1,>=2.3.1 in c:\\users\\ssafy\\appdata\\local\\programs\\python\\python39\\lib\\site-packages (from matplotlib) (3.0.9)\n",
      "Requirement already satisfied: python-dateutil>=2.7 in c:\\users\\ssafy\\appdata\\local\\programs\\python\\python39\\lib\\site-packages (from matplotlib) (2.8.2)\n",
      "Requirement already satisfied: fonttools>=4.22.0 in c:\\users\\ssafy\\appdata\\local\\programs\\python\\python39\\lib\\site-packages (from matplotlib) (4.41.1)\n",
      "Requirement already satisfied: zipp>=3.1.0 in c:\\users\\ssafy\\appdata\\local\\programs\\python\\python39\\lib\\site-packages (from importlib-resources>=3.2.0->matplotlib) (3.16.2)\n",
      "Requirement already satisfied: six>=1.5 in c:\\users\\ssafy\\appdata\\local\\programs\\python\\python39\\lib\\site-packages (from python-dateutil>=2.7->matplotlib) (1.16.0)\n"
     ]
    },
    {
     "name": "stderr",
     "output_type": "stream",
     "text": [
      "WARNING: You are using pip version 22.0.4; however, version 23.2.1 is available.\n",
      "You should consider upgrading via the 'C:\\Users\\SSAFY\\AppData\\Local\\Programs\\Python\\Python39\\python.exe -m pip install --upgrade pip' command.\n"
     ]
    }
   ],
   "source": [
    "pip install matplotlib"
   ]
  },
  {
   "cell_type": "code",
   "execution_count": 16,
   "id": "6b8b8850-cf2b-4632-bcb1-a5eab3e1083d",
   "metadata": {},
   "outputs": [],
   "source": [
    "import csv\n",
    "import numpy as np\n",
    "import pandas as pd\n",
    "import matplotlib.pyplot as plt\n",
    "from matplotlib import dates"
   ]
  },
  {
   "cell_type": "code",
   "execution_count": 17,
   "id": "1dd0a57b-c4d1-4c27-8155-307b8f411197",
   "metadata": {},
   "outputs": [
    {
     "data": {
      "text/html": [
       "<div>\n",
       "<style scoped>\n",
       "    .dataframe tbody tr th:only-of-type {\n",
       "        vertical-align: middle;\n",
       "    }\n",
       "\n",
       "    .dataframe tbody tr th {\n",
       "        vertical-align: top;\n",
       "    }\n",
       "\n",
       "    .dataframe thead th {\n",
       "        text-align: right;\n",
       "    }\n",
       "</style>\n",
       "<table border=\"1\" class=\"dataframe\">\n",
       "  <thead>\n",
       "    <tr style=\"text-align: right;\">\n",
       "      <th></th>\n",
       "      <th>Date</th>\n",
       "      <th>Open</th>\n",
       "      <th>High</th>\n",
       "      <th>Low</th>\n",
       "      <th>Close</th>\n",
       "    </tr>\n",
       "  </thead>\n",
       "  <tbody>\n",
       "    <tr>\n",
       "      <th>733</th>\n",
       "      <td>2021-01-04</td>\n",
       "      <td>539.000000</td>\n",
       "      <td>540.799988</td>\n",
       "      <td>515.090027</td>\n",
       "      <td>522.859985</td>\n",
       "    </tr>\n",
       "    <tr>\n",
       "      <th>734</th>\n",
       "      <td>2021-01-05</td>\n",
       "      <td>521.549988</td>\n",
       "      <td>526.780029</td>\n",
       "      <td>515.890015</td>\n",
       "      <td>520.799988</td>\n",
       "    </tr>\n",
       "    <tr>\n",
       "      <th>735</th>\n",
       "      <td>2021-01-06</td>\n",
       "      <td>511.970001</td>\n",
       "      <td>513.099976</td>\n",
       "      <td>499.500000</td>\n",
       "      <td>500.489990</td>\n",
       "    </tr>\n",
       "    <tr>\n",
       "      <th>736</th>\n",
       "      <td>2021-01-07</td>\n",
       "      <td>508.279999</td>\n",
       "      <td>516.440002</td>\n",
       "      <td>506.420013</td>\n",
       "      <td>508.890015</td>\n",
       "    </tr>\n",
       "    <tr>\n",
       "      <th>737</th>\n",
       "      <td>2021-01-08</td>\n",
       "      <td>511.309998</td>\n",
       "      <td>513.239990</td>\n",
       "      <td>504.510010</td>\n",
       "      <td>510.399994</td>\n",
       "    </tr>\n",
       "    <tr>\n",
       "      <th>...</th>\n",
       "      <td>...</td>\n",
       "      <td>...</td>\n",
       "      <td>...</td>\n",
       "      <td>...</td>\n",
       "      <td>...</td>\n",
       "    </tr>\n",
       "    <tr>\n",
       "      <th>1004</th>\n",
       "      <td>2022-01-31</td>\n",
       "      <td>401.970001</td>\n",
       "      <td>427.700012</td>\n",
       "      <td>398.200012</td>\n",
       "      <td>427.140015</td>\n",
       "    </tr>\n",
       "    <tr>\n",
       "      <th>1005</th>\n",
       "      <td>2022-02-01</td>\n",
       "      <td>432.959991</td>\n",
       "      <td>458.480011</td>\n",
       "      <td>425.540009</td>\n",
       "      <td>457.130005</td>\n",
       "    </tr>\n",
       "    <tr>\n",
       "      <th>1006</th>\n",
       "      <td>2022-02-02</td>\n",
       "      <td>448.250000</td>\n",
       "      <td>451.980011</td>\n",
       "      <td>426.480011</td>\n",
       "      <td>429.480011</td>\n",
       "    </tr>\n",
       "    <tr>\n",
       "      <th>1007</th>\n",
       "      <td>2022-02-03</td>\n",
       "      <td>421.440002</td>\n",
       "      <td>429.260010</td>\n",
       "      <td>404.279999</td>\n",
       "      <td>405.600006</td>\n",
       "    </tr>\n",
       "    <tr>\n",
       "      <th>1008</th>\n",
       "      <td>2022-02-04</td>\n",
       "      <td>407.309998</td>\n",
       "      <td>412.769989</td>\n",
       "      <td>396.640015</td>\n",
       "      <td>410.170013</td>\n",
       "    </tr>\n",
       "  </tbody>\n",
       "</table>\n",
       "<p>276 rows × 5 columns</p>\n",
       "</div>"
      ],
      "text/plain": [
       "            Date        Open        High         Low       Close\n",
       "733   2021-01-04  539.000000  540.799988  515.090027  522.859985\n",
       "734   2021-01-05  521.549988  526.780029  515.890015  520.799988\n",
       "735   2021-01-06  511.970001  513.099976  499.500000  500.489990\n",
       "736   2021-01-07  508.279999  516.440002  506.420013  508.890015\n",
       "737   2021-01-08  511.309998  513.239990  504.510010  510.399994\n",
       "...          ...         ...         ...         ...         ...\n",
       "1004  2022-01-31  401.970001  427.700012  398.200012  427.140015\n",
       "1005  2022-02-01  432.959991  458.480011  425.540009  457.130005\n",
       "1006  2022-02-02  448.250000  451.980011  426.480011  429.480011\n",
       "1007  2022-02-03  421.440002  429.260010  404.279999  405.600006\n",
       "1008  2022-02-04  407.309998  412.769989  396.640015  410.170013\n",
       "\n",
       "[276 rows x 5 columns]"
      ]
     },
     "execution_count": 17,
     "metadata": {},
     "output_type": "execute_result"
    }
   ],
   "source": [
    "# CSV 파일 경로\n",
    "csv_path = 'C:/Users/SSAFY/Desktop/pjt 2일차/Netflix_Stock_Price_Prediction/NFLX.csv'\n",
    "\n",
    "# CSV 파일 읽어오기 (첫 번째, 마지막 열 제외)\n",
    "new_df = pd.read_csv(csv_path, usecols=range(0, 5))\n",
    "\n",
    "# 2022년 이후 데이터 필터링\n",
    "df_after_2021 = new_df[new_df[\"Date\"] >= \"2021-01-01\"] # 이 날부터 큰것만 뽑아라\n",
    "\n",
    "# 출력하기\n",
    "df_after_2021"
   ]
  },
  {
   "cell_type": "code",
   "execution_count": 18,
   "id": "a9ebea3c-d491-45a7-8a4b-5093ead4a1ef",
   "metadata": {},
   "outputs": [
    {
     "data": {
      "text/plain": [
       "Date      object\n",
       "Open     float64\n",
       "High     float64\n",
       "Low      float64\n",
       "Close    float64\n",
       "dtype: object"
      ]
     },
     "execution_count": 18,
     "metadata": {},
     "output_type": "execute_result"
    }
   ],
   "source": [
    "df_after_2021.dtypes"
   ]
  },
  {
   "cell_type": "code",
   "execution_count": 19,
   "id": "2c5919f9-b2b3-4ddd-8bd5-ac3dcf5e63df",
   "metadata": {},
   "outputs": [
    {
     "name": "stderr",
     "output_type": "stream",
     "text": [
      "C:\\Users\\SSAFY\\AppData\\Local\\Temp\\ipykernel_12600\\949258793.py:2: SettingWithCopyWarning: \n",
      "A value is trying to be set on a copy of a slice from a DataFrame.\n",
      "Try using .loc[row_indexer,col_indexer] = value instead\n",
      "\n",
      "See the caveats in the documentation: https://pandas.pydata.org/pandas-docs/stable/user_guide/indexing.html#returning-a-view-versus-a-copy\n",
      "  df_after_2021[\"Date\"] = pd.to_datetime(df_after_2021[\"Date\"])\n"
     ]
    },
    {
     "data": {
      "text/plain": [
       "Date     datetime64[ns]\n",
       "Open            float64\n",
       "High            float64\n",
       "Low             float64\n",
       "Close           float64\n",
       "dtype: object"
      ]
     },
     "execution_count": 19,
     "metadata": {},
     "output_type": "execute_result"
    }
   ],
   "source": [
    "# 날짜 데이터 변환\n",
    "df_after_2021[\"Date\"] = pd.to_datetime(df_after_2021[\"Date\"])\n",
    "\n",
    "df_after_2021.dtypes"
   ]
  },
  {
   "cell_type": "code",
   "execution_count": 20,
   "id": "081a5b53-5135-4e11-a345-3d8deb522f51",
   "metadata": {},
   "outputs": [
    {
     "name": "stderr",
     "output_type": "stream",
     "text": [
      "C:\\Users\\SSAFY\\AppData\\Local\\Temp\\ipykernel_12600\\2542075117.py:1: SettingWithCopyWarning: \n",
      "A value is trying to be set on a copy of a slice from a DataFrame.\n",
      "Try using .loc[row_indexer,col_indexer] = value instead\n",
      "\n",
      "See the caveats in the documentation: https://pandas.pydata.org/pandas-docs/stable/user_guide/indexing.html#returning-a-view-versus-a-copy\n",
      "  df_after_2021['Date_ym'] = df_after_2021['Date'].dt.strftime(\"%Y-%m\")\n"
     ]
    },
    {
     "data": {
      "text/html": [
       "<div>\n",
       "<style scoped>\n",
       "    .dataframe tbody tr th:only-of-type {\n",
       "        vertical-align: middle;\n",
       "    }\n",
       "\n",
       "    .dataframe tbody tr th {\n",
       "        vertical-align: top;\n",
       "    }\n",
       "\n",
       "    .dataframe thead th {\n",
       "        text-align: right;\n",
       "    }\n",
       "</style>\n",
       "<table border=\"1\" class=\"dataframe\">\n",
       "  <thead>\n",
       "    <tr style=\"text-align: right;\">\n",
       "      <th></th>\n",
       "      <th>Date</th>\n",
       "      <th>Open</th>\n",
       "      <th>High</th>\n",
       "      <th>Low</th>\n",
       "      <th>Close</th>\n",
       "      <th>Date_ym</th>\n",
       "    </tr>\n",
       "  </thead>\n",
       "  <tbody>\n",
       "    <tr>\n",
       "      <th>733</th>\n",
       "      <td>2021-01-04</td>\n",
       "      <td>539.000000</td>\n",
       "      <td>540.799988</td>\n",
       "      <td>515.090027</td>\n",
       "      <td>522.859985</td>\n",
       "      <td>2021-01</td>\n",
       "    </tr>\n",
       "    <tr>\n",
       "      <th>734</th>\n",
       "      <td>2021-01-05</td>\n",
       "      <td>521.549988</td>\n",
       "      <td>526.780029</td>\n",
       "      <td>515.890015</td>\n",
       "      <td>520.799988</td>\n",
       "      <td>2021-01</td>\n",
       "    </tr>\n",
       "    <tr>\n",
       "      <th>735</th>\n",
       "      <td>2021-01-06</td>\n",
       "      <td>511.970001</td>\n",
       "      <td>513.099976</td>\n",
       "      <td>499.500000</td>\n",
       "      <td>500.489990</td>\n",
       "      <td>2021-01</td>\n",
       "    </tr>\n",
       "    <tr>\n",
       "      <th>736</th>\n",
       "      <td>2021-01-07</td>\n",
       "      <td>508.279999</td>\n",
       "      <td>516.440002</td>\n",
       "      <td>506.420013</td>\n",
       "      <td>508.890015</td>\n",
       "      <td>2021-01</td>\n",
       "    </tr>\n",
       "    <tr>\n",
       "      <th>737</th>\n",
       "      <td>2021-01-08</td>\n",
       "      <td>511.309998</td>\n",
       "      <td>513.239990</td>\n",
       "      <td>504.510010</td>\n",
       "      <td>510.399994</td>\n",
       "      <td>2021-01</td>\n",
       "    </tr>\n",
       "  </tbody>\n",
       "</table>\n",
       "</div>"
      ],
      "text/plain": [
       "          Date        Open        High         Low       Close  Date_ym\n",
       "733 2021-01-04  539.000000  540.799988  515.090027  522.859985  2021-01\n",
       "734 2021-01-05  521.549988  526.780029  515.890015  520.799988  2021-01\n",
       "735 2021-01-06  511.970001  513.099976  499.500000  500.489990  2021-01\n",
       "736 2021-01-07  508.279999  516.440002  506.420013  508.890015  2021-01\n",
       "737 2021-01-08  511.309998  513.239990  504.510010  510.399994  2021-01"
      ]
     },
     "execution_count": 20,
     "metadata": {},
     "output_type": "execute_result"
    }
   ],
   "source": [
    "df_after_2021['Date_ym'] = df_after_2021['Date'].dt.strftime(\"%Y-%m\")\n",
    "df_after_2021.head()"
   ]
  },
  {
   "cell_type": "code",
   "execution_count": 21,
   "id": "98fb83e7-7dc1-4428-b1e3-34b7d16e036e",
   "metadata": {},
   "outputs": [
    {
     "data": {
      "text/html": [
       "<div>\n",
       "<style scoped>\n",
       "    .dataframe tbody tr th:only-of-type {\n",
       "        vertical-align: middle;\n",
       "    }\n",
       "\n",
       "    .dataframe tbody tr th {\n",
       "        vertical-align: top;\n",
       "    }\n",
       "\n",
       "    .dataframe thead th {\n",
       "        text-align: right;\n",
       "    }\n",
       "</style>\n",
       "<table border=\"1\" class=\"dataframe\">\n",
       "  <thead>\n",
       "    <tr style=\"text-align: right;\">\n",
       "      <th></th>\n",
       "      <th>Date</th>\n",
       "      <th>Open</th>\n",
       "      <th>High</th>\n",
       "      <th>Low</th>\n",
       "      <th>Close</th>\n",
       "      <th>Date_ym</th>\n",
       "    </tr>\n",
       "  </thead>\n",
       "  <tbody>\n",
       "    <tr>\n",
       "      <th>733</th>\n",
       "      <td>2021-01-04</td>\n",
       "      <td>539.000000</td>\n",
       "      <td>540.799988</td>\n",
       "      <td>515.090027</td>\n",
       "      <td>522.859985</td>\n",
       "      <td>2021-01</td>\n",
       "    </tr>\n",
       "    <tr>\n",
       "      <th>734</th>\n",
       "      <td>2021-01-05</td>\n",
       "      <td>521.549988</td>\n",
       "      <td>526.780029</td>\n",
       "      <td>515.890015</td>\n",
       "      <td>520.799988</td>\n",
       "      <td>2021-01</td>\n",
       "    </tr>\n",
       "    <tr>\n",
       "      <th>735</th>\n",
       "      <td>2021-01-06</td>\n",
       "      <td>511.970001</td>\n",
       "      <td>513.099976</td>\n",
       "      <td>499.500000</td>\n",
       "      <td>500.489990</td>\n",
       "      <td>2021-01</td>\n",
       "    </tr>\n",
       "    <tr>\n",
       "      <th>736</th>\n",
       "      <td>2021-01-07</td>\n",
       "      <td>508.279999</td>\n",
       "      <td>516.440002</td>\n",
       "      <td>506.420013</td>\n",
       "      <td>508.890015</td>\n",
       "      <td>2021-01</td>\n",
       "    </tr>\n",
       "    <tr>\n",
       "      <th>737</th>\n",
       "      <td>2021-01-08</td>\n",
       "      <td>511.309998</td>\n",
       "      <td>513.239990</td>\n",
       "      <td>504.510010</td>\n",
       "      <td>510.399994</td>\n",
       "      <td>2021-01</td>\n",
       "    </tr>\n",
       "    <tr>\n",
       "      <th>...</th>\n",
       "      <td>...</td>\n",
       "      <td>...</td>\n",
       "      <td>...</td>\n",
       "      <td>...</td>\n",
       "      <td>...</td>\n",
       "      <td>...</td>\n",
       "    </tr>\n",
       "    <tr>\n",
       "      <th>1004</th>\n",
       "      <td>2022-01-31</td>\n",
       "      <td>401.970001</td>\n",
       "      <td>427.700012</td>\n",
       "      <td>398.200012</td>\n",
       "      <td>427.140015</td>\n",
       "      <td>2022-01</td>\n",
       "    </tr>\n",
       "    <tr>\n",
       "      <th>1005</th>\n",
       "      <td>2022-02-01</td>\n",
       "      <td>432.959991</td>\n",
       "      <td>458.480011</td>\n",
       "      <td>425.540009</td>\n",
       "      <td>457.130005</td>\n",
       "      <td>2022-02</td>\n",
       "    </tr>\n",
       "    <tr>\n",
       "      <th>1006</th>\n",
       "      <td>2022-02-02</td>\n",
       "      <td>448.250000</td>\n",
       "      <td>451.980011</td>\n",
       "      <td>426.480011</td>\n",
       "      <td>429.480011</td>\n",
       "      <td>2022-02</td>\n",
       "    </tr>\n",
       "    <tr>\n",
       "      <th>1007</th>\n",
       "      <td>2022-02-03</td>\n",
       "      <td>421.440002</td>\n",
       "      <td>429.260010</td>\n",
       "      <td>404.279999</td>\n",
       "      <td>405.600006</td>\n",
       "      <td>2022-02</td>\n",
       "    </tr>\n",
       "    <tr>\n",
       "      <th>1008</th>\n",
       "      <td>2022-02-04</td>\n",
       "      <td>407.309998</td>\n",
       "      <td>412.769989</td>\n",
       "      <td>396.640015</td>\n",
       "      <td>410.170013</td>\n",
       "      <td>2022-02</td>\n",
       "    </tr>\n",
       "  </tbody>\n",
       "</table>\n",
       "<p>276 rows × 6 columns</p>\n",
       "</div>"
      ],
      "text/plain": [
       "           Date        Open        High         Low       Close  Date_ym\n",
       "733  2021-01-04  539.000000  540.799988  515.090027  522.859985  2021-01\n",
       "734  2021-01-05  521.549988  526.780029  515.890015  520.799988  2021-01\n",
       "735  2021-01-06  511.970001  513.099976  499.500000  500.489990  2021-01\n",
       "736  2021-01-07  508.279999  516.440002  506.420013  508.890015  2021-01\n",
       "737  2021-01-08  511.309998  513.239990  504.510010  510.399994  2021-01\n",
       "...         ...         ...         ...         ...         ...      ...\n",
       "1004 2022-01-31  401.970001  427.700012  398.200012  427.140015  2022-01\n",
       "1005 2022-02-01  432.959991  458.480011  425.540009  457.130005  2022-02\n",
       "1006 2022-02-02  448.250000  451.980011  426.480011  429.480011  2022-02\n",
       "1007 2022-02-03  421.440002  429.260010  404.279999  405.600006  2022-02\n",
       "1008 2022-02-04  407.309998  412.769989  396.640015  410.170013  2022-02\n",
       "\n",
       "[276 rows x 6 columns]"
      ]
     },
     "execution_count": 21,
     "metadata": {},
     "output_type": "execute_result"
    }
   ],
   "source": [
    "df_after_2021"
   ]
  },
  {
   "cell_type": "code",
   "execution_count": 59,
   "id": "76076837-556f-4df8-a18b-c8b5e6892b51",
   "metadata": {},
   "outputs": [
    {
     "data": {
      "text/plain": [
       "Date_ym\n",
       "2021-01-01    526.816845\n",
       "2021-02-01    548.959999\n",
       "2021-03-01    518.123482\n",
       "2021-04-01    533.136662\n",
       "2021-05-01    496.714497\n",
       "2021-06-01    503.324091\n",
       "2021-07-01    528.653330\n",
       "2021-08-01    532.346817\n",
       "2021-09-01    590.795239\n",
       "2021-10-01    642.202849\n",
       "2021-11-01    667.524286\n",
       "2021-12-01    608.484089\n",
       "2022-01-01    487.853500\n",
       "2022-02-01    425.595009\n",
       "Name: Close, dtype: float64"
      ]
     },
     "execution_count": 59,
     "metadata": {},
     "output_type": "execute_result"
    }
   ],
   "source": [
    "df_after_2021.groupby('Date_ym')['Close'].mean()"
   ]
  },
  {
   "cell_type": "code",
   "execution_count": 61,
   "id": "42f42b70-7bab-4075-8b20-88abc072a2e6",
   "metadata": {},
   "outputs": [
    {
     "name": "stderr",
     "output_type": "stream",
     "text": [
      "C:\\Users\\SSAFY\\AppData\\Local\\Temp\\ipykernel_12600\\1619382539.py:1: SettingWithCopyWarning: \n",
      "A value is trying to be set on a copy of a slice from a DataFrame.\n",
      "Try using .loc[row_indexer,col_indexer] = value instead\n",
      "\n",
      "See the caveats in the documentation: https://pandas.pydata.org/pandas-docs/stable/user_guide/indexing.html#returning-a-view-versus-a-copy\n",
      "  df_after_2021[\"Date_ym\"] = pd.to_datetime(df_after_2021[\"Date_ym\"])\n"
     ]
    }
   ],
   "source": [
    "df_after_2021[\"Date_ym\"] = pd.to_datetime(df_after_2021[\"Date_ym\"])"
   ]
  },
  {
   "cell_type": "code",
   "execution_count": 63,
   "id": "254e8d53-2d36-4b3b-aa99-e8975f4ad6e7",
   "metadata": {},
   "outputs": [],
   "source": [
    "# import matplotlib.dates as dates\n",
    "# import matplotlib.dates as mdates\n",
    "# from datetime import datetime\n",
    "\n",
    "# ax = plt.gca()\n",
    "# #ax.xaxis.set_major_locator(dates.MonthLocator(interval=2))\n",
    "# ax.xaxis.set_major_formatter(dates.DateFormatter(\"%Y-%m\"))\n",
    "\n",
    "# start_date = datetime(2021, 1, 1)\n",
    "# end_date = datetime(2022, 2, 28)\n",
    "# ax.set_xlim(start_date, end_date)"
   ]
  },
  {
   "cell_type": "code",
   "execution_count": 64,
   "id": "4f01dcbe-0d43-457c-97af-43d2ebfa581f",
   "metadata": {},
   "outputs": [
    {
     "data": {
      "image/png": "[encoded data removed]",
      "text/plain": [
       "<Figure size 640x480 with 1 Axes>"
      ]
     },
     "metadata": {},
     "output_type": "display_data"
    }
   ],
   "source": [
    "plt.plot(df_after_2021.groupby('Date_ym')['Close'].mean())\n",
    "\n",
    "# 그래프 제목 설정\n",
    "plt.title('Monthly Average Close Price')\n",
    "\n",
    "# x축 레이블 설정\n",
    "plt.xlabel('Date')\n",
    "\n",
    "\n",
    "# y축 레이블 설정\n",
    "plt.ylabel('Average Close Price')\n",
    "\n",
    "# x 축 설정(회전시키기) #날짜 사선으로 쓰여진 것 봐 ..\n",
    "plt.xticks(rotation=45)\n",
    "\n",
    "#그래프에 격자 추가\n",
    "# plt.grid(True)\n",
    "\n",
    "# 그래프 표시\n",
    "plt.show()"
   ]
  },
  {
   "cell_type": "code",
   "execution_count": null,
   "id": "7e05a8e5-63f4-4a3a-9f27-560ee832bf53",
   "metadata": {},
   "outputs": [],
   "source": []
  }
 ],
 "metadata": {
  "kernelspec": {
   "display_name": "Python 3 (ipykernel)",
   "language": "python",
   "name": "python3"
  },
  "language_info": {
   "codemirror_mode": {
    "name": "ipython",
    "version": 3
   },
   "file_extension": ".py",
   "mimetype": "text/x-python",
   "name": "python",
   "nbconvert_exporter": "python",
   "pygments_lexer": "ipython3",
   "version": "3.9.13"
  }
 },
 "nbformat": 4,
 "nbformat_minor": 5
}
