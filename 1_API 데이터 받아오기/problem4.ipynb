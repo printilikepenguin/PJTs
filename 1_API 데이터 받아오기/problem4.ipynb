{
 "cells": [
  {
   "cell_type": "code",
   "execution_count": 105,
   "id": "48c3af78",
   "metadata": {},
   "outputs": [],
   "source": [
    "# 필요 패키지 import\n",
    "import pprint\n",
    "import requests"
   ]
  },
  {
   "cell_type": "markdown",
   "id": "d5723667",
   "metadata": {},
   "source": [
    "# 문제4. 상품과 옵션 정보들을 담고 있는 새로운 객체를 만들어 반환하시오.\n",
    "- [힌트] 상품 리스트와 옵션 리스트를 금융상품 코드를 기준으로 매칭할 수 있습니다.\n",
    "- [힌트] 아래와 같은 순서로 데이터를 출력하며 진행합니다.\n",
    "- 1. 응답을 json 형식으로 변환합니다.\n",
    "- 2. key 값이 \"result\" 인 데이터를 변수에 저장합니다.\n",
    "- 3. 2번의 결과 중 key 값이 \"baseList\" 인 데이터를 변수에 저장합니다.\n",
    "- 4. 2번의 결과 중 key 값이 \"optionList\" 인 데이터를 변수에 저장합니다.\n",
    "- 5. 3번에서 저장된 변수를 순회하며, 4번에서 저장된 값들에서 금융 상품 코드가 \n",
    "-     같은 모든 데이터들을 가져와 새로운 딕셔너리로 저장합니다.\n",
    "-     저장 시, 명세서에 맞게 출력되도록 저장합니다.\n",
    "- 6. 5번에서 만든 딕셔너리를 결과 리스트에 추가합니다."
   ]
  },
  {
   "cell_type": "code",
   "execution_count": 124,
   "id": "dcdb1972",
   "metadata": {},
   "outputs": [],
   "source": [
    "def get_deposit_products():\n",
    "    api_key = \"72624f4493711e1a4b021f735bffa37e\"\n",
    "    \n",
    "    # 공통요구사항 사용예제\n",
    "    url = 'http://finlife.fss.or.kr/finlifeapi/depositProductsSearch.json'\n",
    "    params = {\n",
    "        'auth' : api_key, \n",
    "        'topFinGrpNo' : '020000',\n",
    "        'pageNo' : 1\n",
    "    }\n",
    "\n",
    "    #key값이 baselist인 데이터를 저장합니다.\n",
    "    base_list = requests.get(url, params=params).json()['result']['baseList']    \n",
    "    #key값이 optionlist인 데이터를 저장합니다.\n",
    "    option_list = requests.get(url, params=params).json()['result']['optionList']\n",
    "\n",
    "    result = []\n",
    "    \n",
    "    for product in base_list:\n",
    "        new_product = {}\n",
    "        options = []\n",
    "        for option in option_list:\n",
    "            new_option = {}\n",
    "            if option['fin_prdt_cd'] == product['fin_prdt_cd']:\n",
    "                new_option['저축 금리'] = option['intr_rate']\n",
    "                new_option['저축 기간'] = option['save_trm']    \n",
    "                new_option['저축금리유형'] = option['intr_rate_type']\n",
    "                new_option['저축금리유형명'] = option['intr_rate_type_nm']\n",
    "                new_option['최고 우대금리'] = option['intr_rate2']\n",
    "   \n",
    "            for base in base_list:\n",
    "                new_base = {}\n",
    "                new_base['금리정보'] = new_option\n",
    "                new_base['금융상품명'] = base['fin_prdt_nm']\n",
    "                new_base['금융회사명'] = base['kor_co_nm']\n",
    "            \n",
    "            return new_base\n",
    "\n",
    "\n",
    "\n",
    "\n",
    "        \n",
    "    # #base_list를 순회하며 optionlist와 'fin_prdt_cd'가 같은 모든 데이터를 가져와 fin_dict로 저장합니다.\n",
    "    # fin_dict = {}\n",
    "    \n",
    "    # #fin_dict의 출력양식을 작성합니다. \n",
    "    # for base in base_list:\n",
    "    #     a = base['fin_prdt_cd']\n",
    "    #     fin_dict[a] = []\n",
    "    #     for option in option_list:\n",
    "    #         b = option['fin_prdt_cd']\n",
    "    #         if a == b:\n",
    "    #             fin_dict[a].append(option)\n",
    "          \n",
    "    #새로운 딕셔너리를 result 리스트에 추가합니다.\n",
    "        \n",
    "    # for base in base_list:\n",
    "    #     new_base = {}\n",
    "    #     new_base['금리정보'] = new_optionㅎ\n",
    "    #     new_base['금융상품명'] = base['fin_prdt_nm']\n",
    "    #     new_base['금융회사명'] = base['kor_co_nm']\n",
    "    #     print(new_base)\n",
    "            \n",
    "    # for option in option_list:\n",
    "    #     new_option = {}\n",
    "    #     new_option['저축 금리'] = option['intr_rate']\n",
    "    #     new_option['저축 기간'] = option['save_trm']\n",
    "    #     new_option['저축금리유형'] = option['intr_rate_type']\n",
    "    #     new_option['저축금리유형명'] = option['intr_rate_type_nm']\n",
    "    #     new_option['최고 우대금리'] = option['intr_rate2']\n",
    "    #     print(new_option)"
   ]
  },
  {
   "cell_type": "code",
   "execution_count": 125,
   "id": "9a3c23f1",
   "metadata": {},
   "outputs": [
    {
     "name": "stdout",
     "output_type": "stream",
     "text": [
      "{'금리정보': {'저축 금리': 3.67,\n",
      "          '저축 기간': '6',\n",
      "          '저축금리유형': 'S',\n",
      "          '저축금리유형명': '단리',\n",
      "          '최고 우대금리': 3.67},\n",
      " '금융상품명': '카카오뱅크 정기예금',\n",
      " '금융회사명': '주식회사 카카오뱅크'}\n"
     ]
    }
   ],
   "source": [
    "# 아래 코드는 수정하지 않습니다.\n",
    "if __name__ == '__main__':\n",
    "    # json 형태의 데이터 반환\n",
    "    result = get_deposit_products()\n",
    "    # prrint.prrint(): json 을 보기 좋은 형식으로 출력\n",
    "    pprint.pprint(result)"
   ]
  },
  {
   "cell_type": "code",
   "execution_count": null,
   "id": "4793a7d8",
   "metadata": {},
   "outputs": [],
   "source": []
  }
 ],
 "metadata": {
  "kernelspec": {
   "display_name": "Python 3 (ipykernel)",
   "language": "python",
   "name": "python3"
  },
  "language_info": {
   "codemirror_mode": {
    "name": "ipython",
    "version": 3
   },
   "file_extension": ".py",
   "mimetype": "text/x-python",
   "name": "python",
   "nbconvert_exporter": "python",
   "pygments_lexer": "ipython3",
   "version": "3.9.13"
  }
 },
 "nbformat": 4,
 "nbformat_minor": 5
}
